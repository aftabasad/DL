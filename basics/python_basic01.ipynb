{
 "cells": [
  {
   "cell_type": "code",
   "execution_count": null,
   "metadata": {
    "collapsed": true
   },
   "outputs": [],
   "source": [
    "import numpy as np\n",
    "import matplotlib.pyplot as plt\n",
    "import pandas as pd"
   ]
  },
  {
   "cell_type": "markdown",
   "metadata": {},
   "source": [
    "### Create a matrix using numpy "
   ]
  },
  {
   "cell_type": "code",
   "execution_count": null,
   "metadata": {
    "collapsed": true
   },
   "outputs": [],
   "source": [
    "a = np.arange(20).reshape(-1,10)\n",
    "a"
   ]
  },
  {
   "cell_type": "code",
   "execution_count": null,
   "metadata": {
    "collapsed": true
   },
   "outputs": [],
   "source": [
    "b = np.linspace(2.0, 3.0, num=20, ).reshape(2,5,2)\n",
    "b"
   ]
  },
  {
   "cell_type": "code",
   "execution_count": null,
   "metadata": {
    "collapsed": true
   },
   "outputs": [],
   "source": [
    "a = np.arange(20).reshape(4,5)\n",
    "b = a.reshape(5,4)\n",
    "_3d = np.arange(8).reshape(2, 2, 2)"
   ]
  },
  {
   "cell_type": "code",
   "execution_count": null,
   "metadata": {
    "collapsed": true
   },
   "outputs": [],
   "source": [
    "print (a)\n",
    "print (b)\n",
    "print (_3d)"
   ]
  },
  {
   "cell_type": "code",
   "execution_count": null,
   "metadata": {
    "collapsed": true
   },
   "outputs": [],
   "source": [
    "c=np.matmul(a, b)\n",
    "c"
   ]
  },
  {
   "cell_type": "markdown",
   "metadata": {},
   "source": [
    "### Initialize a vector with random values"
   ]
  },
  {
   "cell_type": "code",
   "execution_count": 6,
   "metadata": {},
   "outputs": [
    {
     "name": "stdout",
     "output_type": "stream",
     "text": [
      "[0.5507979  0.70814782 0.29090474 0.51082761 0.89294695]\n"
     ]
    }
   ],
   "source": [
    "np.random.seed(3)\n",
    "r0 = np.random.rand(5)\n",
    "print (r0)"
   ]
  },
  {
   "cell_type": "code",
   "execution_count": 7,
   "metadata": {},
   "outputs": [
    {
     "name": "stdout",
     "output_type": "stream",
     "text": [
      "(5,)\n"
     ]
    }
   ],
   "source": [
    "print (r0.shape)"
   ]
  },
  {
   "cell_type": "markdown",
   "metadata": {},
   "source": [
    "### Random distributions\n",
    "```python\n",
    "uniform = np.random.rand(3,5) # uniform distribution between 0, 1\n",
    "normal = np.random.randn(3,5) # Normal (Gaussian) distribution (mostly used in ML)\n",
    "```"
   ]
  },
  {
   "cell_type": "code",
   "execution_count": 8,
   "metadata": {},
   "outputs": [
    {
     "data": {
      "text/plain": [
       "array([[-0.46004212],\n",
       "       [-0.05792084],\n",
       "       [ 2.07757414],\n",
       "       [-0.60131248],\n",
       "       [ 0.93923639],\n",
       "       [-1.18040862],\n",
       "       [-0.34733018],\n",
       "       [ 0.06629873],\n",
       "       [-1.62758528],\n",
       "       [ 0.39788586],\n",
       "       [-1.62915743],\n",
       "       [-0.63893553],\n",
       "       [-0.56080987],\n",
       "       [ 1.81898259],\n",
       "       [ 0.15657257],\n",
       "       [-1.20327619],\n",
       "       [-0.7040594 ],\n",
       "       [ 1.01922044],\n",
       "       [-0.53463016],\n",
       "       [-1.32688896],\n",
       "       [ 0.66805241],\n",
       "       [ 0.28587781],\n",
       "       [-0.37067527],\n",
       "       [ 1.05045112],\n",
       "       [ 0.2613125 ],\n",
       "       [-0.69459727],\n",
       "       [-2.02469194],\n",
       "       [ 0.84595316],\n",
       "       [-0.47455326],\n",
       "       [-1.39576555],\n",
       "       [-1.73278446],\n",
       "       [-0.23322423],\n",
       "       [-0.36848667],\n",
       "       [-1.8131661 ],\n",
       "       [ 0.25453554],\n",
       "       [ 1.06394904],\n",
       "       [-0.98961218],\n",
       "       [-0.96505109],\n",
       "       [-1.42170273],\n",
       "       [-0.21899587],\n",
       "       [ 0.0673387 ],\n",
       "       [-1.43275264],\n",
       "       [-0.03472461],\n",
       "       [-0.87321135],\n",
       "       [ 1.39038115],\n",
       "       [-0.92267665],\n",
       "       [ 0.84071907],\n",
       "       [ 1.08556745],\n",
       "       [-0.98591834],\n",
       "       [ 1.4756062 ]])"
      ]
     },
     "execution_count": 8,
     "metadata": {},
     "output_type": "execute_result"
    }
   ],
   "source": [
    "r = np.random.randn(50,1)\n",
    "r"
   ]
  },
  {
   "cell_type": "code",
   "execution_count": null,
   "metadata": {
    "collapsed": true
   },
   "outputs": [],
   "source": [
    "print(r.shape)\n",
    "print(\"rows: \"+str(r.shape[0]))\n",
    "print(\"cols: \"+str(r.shape[1]))"
   ]
  },
  {
   "cell_type": "code",
   "execution_count": null,
   "metadata": {
    "collapsed": true
   },
   "outputs": [],
   "source": [
    "print(\"mean: \"+str(r.mean())+\", std: \"+str(r.std()))"
   ]
  },
  {
   "cell_type": "markdown",
   "metadata": {},
   "source": [
    "### Matrix transpose"
   ]
  },
  {
   "cell_type": "code",
   "execution_count": null,
   "metadata": {
    "collapsed": true
   },
   "outputs": [],
   "source": [
    "r_t = r.T\n",
    "print(\"Transpose: \"+str(r_t))\n",
    "r_t.shape"
   ]
  },
  {
   "cell_type": "markdown",
   "metadata": {},
   "source": [
    "### Matrix multiplication using numpy"
   ]
  },
  {
   "cell_type": "code",
   "execution_count": null,
   "metadata": {
    "collapsed": true
   },
   "outputs": [],
   "source": [
    "dp = np.dot(r,r_t)"
   ]
  },
  {
   "cell_type": "code",
   "execution_count": null,
   "metadata": {
    "collapsed": true
   },
   "outputs": [],
   "source": [
    "print(\"Multi: \"+str(dp))"
   ]
  },
  {
   "cell_type": "code",
   "execution_count": null,
   "metadata": {
    "collapsed": true
   },
   "outputs": [],
   "source": [
    "import math\n",
    "\n",
    "def sigmoid(x):\n",
    "    a = []\n",
    "    for item in x:\n",
    "        a.append(1/(1+math.exp(-item)))\n",
    "    return a"
   ]
  },
  {
   "cell_type": "markdown",
   "metadata": {},
   "source": [
    "### Matplotlib"
   ]
  },
  {
   "cell_type": "markdown",
   "metadata": {},
   "source": [
    "### bar chart"
   ]
  },
  {
   "cell_type": "code",
   "execution_count": null,
   "metadata": {
    "collapsed": true
   },
   "outputs": [],
   "source": [
    "import matplotlib.pyplot as plt\n",
    "hist,bin_edges = np.histogram(r)\n",
    "#plt.bar(bin_edges[:-1], hist, width = 0.25, color='#0504aa',alpha=0.7)\n",
    "plt.hist(r, width=0.2, color='#8080c0')\n",
    "plt.show()"
   ]
  },
  {
   "cell_type": "markdown",
   "metadata": {},
   "source": [
    "### line plot"
   ]
  },
  {
   "cell_type": "code",
   "execution_count": null,
   "metadata": {
    "collapsed": true
   },
   "outputs": [],
   "source": [
    "x = np.arange(-10., 10., 0.3)\n",
    "#sigmoid\n",
    "sig = sigmoid(x)\n",
    "#hyperpolic tangent\n",
    "tanh = np.tanh(x) "
   ]
  },
  {
   "cell_type": "code",
   "execution_count": null,
   "metadata": {
    "collapsed": true
   },
   "outputs": [],
   "source": [
    "plt.plot(x,sig)\n",
    "plt.plot(x, np.zeros(x.shape[0]), '--', color=\"#999999\",)\n",
    "plt.show()"
   ]
  },
  {
   "cell_type": "code",
   "execution_count": null,
   "metadata": {
    "collapsed": true
   },
   "outputs": [],
   "source": [
    "plt.plot(x,tanh, color=\"#800000\")\n",
    "plt.plot(x, np.zeros(x.shape[0]), '--', color=\"#999999\",)\n",
    "plt.show()"
   ]
  },
  {
   "cell_type": "code",
   "execution_count": null,
   "metadata": {
    "collapsed": true
   },
   "outputs": [],
   "source": []
  }
 ],
 "metadata": {
  "kernelspec": {
   "display_name": "Python 3",
   "language": "python",
   "name": "python3"
  },
  "language_info": {
   "codemirror_mode": {
    "name": "ipython",
    "version": 3
   },
   "file_extension": ".py",
   "mimetype": "text/x-python",
   "name": "python",
   "nbconvert_exporter": "python",
   "pygments_lexer": "ipython3",
   "version": "3.6.3"
  }
 },
 "nbformat": 4,
 "nbformat_minor": 2
}
