{
 "cells": [
  {
   "cell_type": "code",
   "execution_count": 2,
   "metadata": {
    "collapsed": true
   },
   "outputs": [],
   "source": [
    "import numpy as np\n",
    "import matplotlib.pyplot as plt\n",
    "import pandas as pd"
   ]
  },
  {
   "cell_type": "markdown",
   "metadata": {},
   "source": [
    "### Create a matrix using numpy "
   ]
  },
  {
   "cell_type": "code",
   "execution_count": null,
   "metadata": {
    "collapsed": true
   },
   "outputs": [],
   "source": [
    "a = np.arange(15).reshape(3, 5)"
   ]
  },
  {
   "cell_type": "code",
   "execution_count": null,
   "metadata": {
    "collapsed": true
   },
   "outputs": [],
   "source": [
    "print (a)"
   ]
  },
  {
   "cell_type": "markdown",
   "metadata": {},
   "source": [
    "### Initialize a vector with random values"
   ]
  },
  {
   "cell_type": "code",
   "execution_count": 16,
   "metadata": {},
   "outputs": [
    {
     "name": "stdout",
     "output_type": "stream",
     "text": [
      "[0.24851013 0.44997542 0.4109408  0.26029969 0.87039569]\n"
     ]
    }
   ],
   "source": [
    "np.random.seed(33)\n",
    "r0 = np.random.rand(5)\n",
    "print (r0)"
   ]
  },
  {
   "cell_type": "code",
   "execution_count": 17,
   "metadata": {},
   "outputs": [
    {
     "name": "stdout",
     "output_type": "stream",
     "text": [
      "(5,)\n"
     ]
    }
   ],
   "source": [
    "print (r0.shape)"
   ]
  },
  {
   "cell_type": "markdown",
   "metadata": {},
   "source": [
    "### Random distributions\n",
    "```python\n",
    "uniform = np.random.rand(3,5) # uniform distribution between 0, 1\n",
    "normal = np.random.randn(3,5) # Normal (Gaussian) distribution (mostly used in ML)\n",
    "```"
   ]
  },
  {
   "cell_type": "code",
   "execution_count": 18,
   "metadata": {},
   "outputs": [],
   "source": [
    "r = np.random.randn(50,1)"
   ]
  },
  {
   "cell_type": "code",
   "execution_count": 19,
   "metadata": {},
   "outputs": [
    {
     "name": "stdout",
     "output_type": "stream",
     "text": [
      "(50, 1)\n",
      "rows: 50\n",
      "cols: 1\n"
     ]
    }
   ],
   "source": [
    "print(r.shape)\n",
    "print(\"rows: \"+str(r.shape[0]))\n",
    "print(\"cols: \"+str(r.shape[1]))"
   ]
  },
  {
   "cell_type": "code",
   "execution_count": 41,
   "metadata": {},
   "outputs": [
    {
     "name": "stdout",
     "output_type": "stream",
     "text": [
      "mean: -0.27154581813759715, std: 0.8638913463647249\n"
     ]
    },
    {
     "data": {
      "text/plain": [
       "array([0., 0., 0., 0., 0., 0., 0., 0., 0., 0.])"
      ]
     },
     "execution_count": 41,
     "metadata": {},
     "output_type": "execute_result"
    }
   ],
   "source": [
    "print(\"mean: \"+str(r.mean())+\", std: \"+str(r.std()))"
   ]
  },
  {
   "cell_type": "markdown",
   "metadata": {},
   "source": [
    "### Matrix transpose"
   ]
  },
  {
   "cell_type": "code",
   "execution_count": 21,
   "metadata": {},
   "outputs": [
    {
     "name": "stdout",
     "output_type": "stream",
     "text": [
      "Transpose: [[ 1.16018391e-01  2.91412229e-01  5.36795548e-01 -1.54817607e-02\n",
      "  -7.30924569e-01 -1.85322592e-01 -1.01410294e+00 -4.47990250e-01\n",
      "  -2.53889235e+00 -1.52181946e-01  1.73950856e+00 -3.83602525e-01\n",
      "   6.65459487e-01 -1.36707976e+00 -3.40452685e-01 -4.07361442e-01\n",
      "   1.33850135e-01 -5.97414038e-01  1.12956817e-01  1.31840490e+00\n",
      "  -1.17690008e+00 -1.35829361e+00  1.06414922e-01 -8.01179540e-01\n",
      "  -5.15575275e-01 -8.41503645e-01 -4.15641273e-01  1.03007141e+00\n",
      "   1.27524293e+00 -9.64824938e-01 -2.97305065e-02 -5.04219114e-01\n",
      "   8.81265989e-01  7.46957608e-01 -7.91738806e-01 -1.05708677e+00\n",
      "   2.72360956e-01 -1.03370458e+00  4.19049745e-01 -4.67706590e-01\n",
      "  -7.11855937e-01  2.04669577e-04  1.57870889e+00 -1.42527026e+00\n",
      "  -3.01010860e-01 -1.30156229e+00  2.35249053e-01 -4.15645013e-01\n",
      "  -1.62828244e+00 -1.11468475e+00]]\n"
     ]
    }
   ],
   "source": [
    "r_t = r.T\n",
    "print(\"Transpose: \"+str(r_t))"
   ]
  },
  {
   "cell_type": "markdown",
   "metadata": {},
   "source": [
    "### Matrix multiplication using numpy"
   ]
  },
  {
   "cell_type": "code",
   "execution_count": 22,
   "metadata": {
    "collapsed": true
   },
   "outputs": [],
   "source": [
    "dp = np.dot(r,r_t)"
   ]
  },
  {
   "cell_type": "code",
   "execution_count": 23,
   "metadata": {},
   "outputs": [
    {
     "name": "stdout",
     "output_type": "stream",
     "text": [
      "Multi: [[ 0.01346027  0.03380918  0.06227816 ... -0.04822247 -0.18891071\n",
      "  -0.12932393]\n",
      " [ 0.03380918  0.08492109  0.15642879 ... -0.12112404 -0.47450141\n",
      "  -0.32483277]\n",
      " [ 0.06227816  0.15642879  0.28814946 ... -0.22311639 -0.87405476\n",
      "  -0.59835781]\n",
      " ...\n",
      " [-0.04822247 -0.12112404 -0.22311639 ...  0.17276078  0.67678747\n",
      "   0.46331316]\n",
      " [-0.18891071 -0.47450141 -0.87405476 ...  0.67678747  2.65130369\n",
      "   1.81502161]\n",
      " [-0.12932393 -0.32483277 -0.59835781 ...  0.46331316  1.81502161\n",
      "   1.2425221 ]]\n"
     ]
    }
   ],
   "source": [
    "print(\"Multi: \"+str(dp))"
   ]
  },
  {
   "cell_type": "code",
   "execution_count": 24,
   "metadata": {
    "collapsed": true
   },
   "outputs": [],
   "source": [
    "import math\n",
    "\n",
    "def sigmoid(x):\n",
    "    a = []\n",
    "    for item in x:\n",
    "        a.append(1/(1+math.exp(-item)))\n",
    "    return a"
   ]
  },
  {
   "cell_type": "markdown",
   "metadata": {},
   "source": [
    "### Matplotlib"
   ]
  },
  {
   "cell_type": "markdown",
   "metadata": {},
   "source": [
    "### bar chart"
   ]
  },
  {
   "cell_type": "code",
   "execution_count": 25,
   "metadata": {},
   "outputs": [
    {
     "data": {
      "image/png": "[encoded data removed]",
      "text/plain": [
       "<Figure size 432x288 with 1 Axes>"
      ]
     },
     "metadata": {},
     "output_type": "display_data"
    }
   ],
   "source": [
    "import matplotlib.pyplot as plt\n",
    "hist,bin_edges = np.histogram(r)\n",
    "#plt.bar(bin_edges[:-1], hist, width = 0.25, color='#0504aa',alpha=0.7)\n",
    "plt.hist(r, width=0.2, color='#8080c0')\n",
    "plt.show()"
   ]
  },
  {
   "cell_type": "markdown",
   "metadata": {},
   "source": [
    "### line plot"
   ]
  },
  {
   "cell_type": "code",
   "execution_count": 26,
   "metadata": {},
   "outputs": [],
   "source": [
    "x = np.arange(-10., 10., 0.3)\n",
    "#sigmoid\n",
    "sig = sigmoid(x)\n",
    "#hyperpolic tangent\n",
    "tanh = np.tanh(x) "
   ]
  },
  {
   "cell_type": "code",
   "execution_count": 49,
   "metadata": {},
   "outputs": [
    {
     "data": {
      "image/png": "[encoded data removed]",
      "text/plain": [
       "<Figure size 432x288 with 1 Axes>"
      ]
     },
     "metadata": {},
     "output_type": "display_data"
    }
   ],
   "source": [
    "plt.plot(x,sig)\n",
    "#plt.plot(x, np.zeros(x.shape[0]), '--', color=\"#999999\",)\n",
    "plt.show()"
   ]
  },
  {
   "cell_type": "code",
   "execution_count": 48,
   "metadata": {},
   "outputs": [
    {
     "data": {
      "image/png": "[encoded data removed]",
      "text/plain": [
       "<Figure size 432x288 with 1 Axes>"
      ]
     },
     "metadata": {},
     "output_type": "display_data"
    }
   ],
   "source": [
    "plt.plot(x,tanh, color=\"#800000\")\n",
    "#plt.plot(x, np.zeros(x.shape[0]), '--', color=\"#999999\",)\n",
    "plt.show()"
   ]
  }
 ],
 "metadata": {
  "kernelspec": {
   "display_name": "Python 3",
   "language": "python",
   "name": "python3"
  },
  "language_info": {
   "codemirror_mode": {
    "name": "ipython",
    "version": 3
   },
   "file_extension": ".py",
   "mimetype": "text/x-python",
   "name": "python",
   "nbconvert_exporter": "python",
   "pygments_lexer": "ipython3",
   "version": "3.6.3"
  }
 },
 "nbformat": 4,
 "nbformat_minor": 2
}
