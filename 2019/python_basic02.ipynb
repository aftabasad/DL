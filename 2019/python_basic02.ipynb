{
 "cells": [
  {
   "cell_type": "code",
   "execution_count": null,
   "metadata": {
    "collapsed": true
   },
   "outputs": [],
   "source": [
    "import numpy as np"
   ]
  },
  {
   "cell_type": "code",
   "execution_count": null,
   "metadata": {},
   "outputs": [],
   "source": [
    "arr1 = [\"one\", \"two\", \"three\"]\n",
    "arr1"
   ]
  },
  {
   "cell_type": "code",
   "execution_count": null,
   "metadata": {},
   "outputs": [],
   "source": [
    "arr = np.array([1, 2, 3, 4, 5])\n",
    "arr "
   ]
  },
  {
   "cell_type": "code",
   "execution_count": null,
   "metadata": {},
   "outputs": [],
   "source": [
    "z = np.zeros([2,3])\n",
    "z"
   ]
  },
  {
   "cell_type": "code",
   "execution_count": null,
   "metadata": {},
   "outputs": [],
   "source": [
    "o = np.ones(25)\n",
    "o"
   ]
  },
  {
   "cell_type": "markdown",
   "metadata": {},
   "source": [
    "### Arithmetic operation on Matrix"
   ]
  },
  {
   "cell_type": "code",
   "execution_count": null,
   "metadata": {},
   "outputs": [],
   "source": [
    "a = np.array([0, 1, 2])\n",
    "b = np.array([5, 5, 5])\n",
    "a + b"
   ]
  },
  {
   "cell_type": "code",
   "execution_count": null,
   "metadata": {},
   "outputs": [],
   "source": [
    "c = np.linspace(2.0, 3.0, num=10).reshape(-1, 2)\n",
    "d = np.arange(14).reshape(2,-1)\n",
    "\n",
    "# c * d is element wise operation and will give error\n",
    "m = np.matmul(c, d) # this is classic matrix multiplication\n",
    "m\n",
    "\n",
    "# A basic neural network operation\n",
    "\n",
    "W = np.random.randn(5, 4)\n",
    "X = np.arange(20).reshape(4, -1)\n",
    "\n",
    "A = np.dot(W, X)\n",
    "A"
   ]
  },
  {
   "cell_type": "markdown",
   "metadata": {},
   "source": [
    "### Broadcasting in Python"
   ]
  },
  {
   "cell_type": "code",
   "execution_count": null,
   "metadata": {},
   "outputs": [],
   "source": [
    "# A scalar gets added to an array. Both are of entirely separate dimenssions\n",
    "\n",
    "e = np.linspace(2, 10, num=10)\n",
    "e + 4\n",
    "\n",
    "# Two matrices of different sizes\n",
    "\n",
    "M = np.ones((3, 3))\n",
    "M + a\n",
    "\n",
    "# Previously, we saw this\n",
    "W = np.random.randn(5, 4) * 0.01\n",
    "X = np.arange(12).reshape(4, 3)\n",
    "A = np.dot(W, X)\n",
    "\n",
    "# A different dimenssion vector\n",
    "b = np.ones((1, 3)) # b = [1., 1., 1.,]\n",
    "# Now vector b can be broadcasted to A\n",
    "b + A # or A + b"
   ]
  },
  {
   "cell_type": "code",
   "execution_count": null,
   "metadata": {},
   "outputs": [],
   "source": [
    "o = np.ones([5,5])\n",
    "o"
   ]
  },
  {
   "cell_type": "code",
   "execution_count": null,
   "metadata": {},
   "outputs": [],
   "source": [
    "e = np.identity(4)\n",
    "e"
   ]
  },
  {
   "cell_type": "code",
   "execution_count": null,
   "metadata": {},
   "outputs": [],
   "source": [
    "ls = np.linspace(2.0, 3.0, num=5, retstep=True)\n",
    "ls"
   ]
  },
  {
   "cell_type": "code",
   "execution_count": null,
   "metadata": {
    "collapsed": true
   },
   "outputs": [],
   "source": []
  }
 ],
 "metadata": {
  "kernelspec": {
   "display_name": "Python 3",
   "language": "python",
   "name": "python3"
  },
  "language_info": {
   "codemirror_mode": {
    "name": "ipython",
    "version": 3
   },
   "file_extension": ".py",
   "mimetype": "text/x-python",
   "name": "python",
   "nbconvert_exporter": "python",
   "pygments_lexer": "ipython3",
   "version": "3.6.3"
  }
 },
 "nbformat": 4,
 "nbformat_minor": 2
}
