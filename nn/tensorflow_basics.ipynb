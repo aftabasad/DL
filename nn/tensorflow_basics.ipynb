{
 "cells": [
  {
   "cell_type": "code",
   "execution_count": 2,
   "metadata": {},
   "outputs": [],
   "source": [
    "import tensorflow as tf"
   ]
  },
  {
   "cell_type": "code",
   "execution_count": 3,
   "metadata": {},
   "outputs": [
    {
     "name": "stdout",
     "output_type": "stream",
     "text": [
      "tensorflow version: 1.10.0\n"
     ]
    }
   ],
   "source": [
    "print (\"tensorflow version: \"+str(tf.__version__))"
   ]
  },
  {
   "cell_type": "code",
   "execution_count": 4,
   "metadata": {},
   "outputs": [
    {
     "data": {
      "text/plain": [
       "False"
      ]
     },
     "execution_count": 4,
     "metadata": {},
     "output_type": "execute_result"
    }
   ],
   "source": [
    "# Enable eager execution\n",
    "tf.enable_eager_execution()\n",
    "# check if it's set properly\n",
    "tf.executing_eagerly()"
   ]
  },
  {
   "cell_type": "code",
   "execution_count": 13,
   "metadata": {},
   "outputs": [
    {
     "name": "stdout",
     "output_type": "stream",
     "text": [
      "Tensor(\"cost_val_3:0\", shape=(), dtype=float32)\n",
      "Tensor(\"Const_5:0\", shape=(3,), dtype=float32)\n"
     ]
    }
   ],
   "source": [
    "# define some const\n",
    "t = tf.constant(42.0, name='cost_val')\n",
    "f = tf.constant([1, 2, 3], dtype=tf.float32)\n",
    "print(t)\n",
    "print(f)"
   ]
  },
  {
   "cell_type": "code",
   "execution_count": 14,
   "metadata": {},
   "outputs": [
    {
     "name": "stdout",
     "output_type": "stream",
     "text": [
      "<tf.Variable 'animal_4:0' shape=() dtype=string_ref>\n"
     ]
    },
    {
     "data": {
      "text/plain": [
       "<tf.Tensor 'Shape_2:0' shape=(1,) dtype=int32>"
      ]
     },
     "execution_count": 14,
     "metadata": {},
     "output_type": "execute_result"
    }
   ],
   "source": [
    "# define variables\n",
    "print(tf.Variable(\"Elephant\", tf.string, name='animal'))\n",
    "pi = tf.Variable(3.14159265, tf.float64, name='pi')\n",
    "#tf.Variable(3.14159265, tf.float64,)\n",
    "tf.shape(f)"
   ]
  },
  {
   "cell_type": "code",
   "execution_count": 17,
   "metadata": {},
   "outputs": [
    {
     "name": "stdout",
     "output_type": "stream",
     "text": [
      "Tensor(\"Placeholder_4:0\", shape=(2, 3), dtype=float32)\n"
     ]
    }
   ],
   "source": [
    "# define variables\n",
    "a = tf.placeholder(tf.float32, [None])\n",
    "b = tf.placeholder(tf.float32, [None])\n",
    "print(a)"
   ]
  },
  {
   "cell_type": "code",
   "execution_count": 18,
   "metadata": {},
   "outputs": [
    {
     "name": "stdout",
     "output_type": "stream",
     "text": [
      "Tensor(\"Mul:0\", shape=(4,), dtype=int32)\n"
     ]
    }
   ],
   "source": [
    "# Initialize two constants\n",
    "x1 = tf.constant([1,2,3,4])\n",
    "x2 = tf.constant([5,6,7,8])\n",
    "\n",
    "# Add operation \n",
    "x3 = tf.add(x1, 5)\n",
    "# Multiply operation\n",
    "result = tf.multiply(x3, x2)\n",
    "\n",
    "# Print the result\n",
    "print(result)"
   ]
  },
  {
   "cell_type": "code",
   "execution_count": 19,
   "metadata": {},
   "outputs": [
    {
     "name": "stdout",
     "output_type": "stream",
     "text": [
      "[30 42 56 72]\n"
     ]
    }
   ],
   "source": [
    "# Initialize the session\n",
    "sess = tf.Session()\n",
    "# Run the computation graph \n",
    "print (sess.run(result))"
   ]
  },
  {
   "cell_type": "code",
   "execution_count": null,
   "metadata": {
    "collapsed": true
   },
   "outputs": [],
   "source": [
    "# setup the variable initialisation\n",
    "init_op = tf.global_variables_initializer()\n",
    "# initialise the variables\n",
    "sess.run(init_op)"
   ]
  },
  {
   "cell_type": "code",
   "execution_count": 21,
   "metadata": {
    "collapsed": true
   },
   "outputs": [],
   "source": [
    "def dense(x, W, b):\n",
    "    return tf.nn.sigmoid(tf.matmul(x, W) + b)"
   ]
  },
  {
   "cell_type": "code",
   "execution_count": 31,
   "metadata": {},
   "outputs": [
    {
     "data": {
      "text/plain": [
       "array([[0.54983395, 0.54983395, 0.54983395],\n",
       "       [0.8455347 , 0.8455347 , 0.8455347 ]], dtype=float32)"
      ]
     },
     "execution_count": 31,
     "metadata": {},
     "output_type": "execute_result"
    }
   ],
   "source": [
    "X = tf.constant([[1, 2, 3],[4,5,6]], dtype=tf.float32)\n",
    "W = tf.constant([[0.5], [0.3], [-0.3]], dtype=tf.float32)\n",
    "\n",
    "z = dense(X,W,[0,0,0])\n",
    "tf.Session().run(z)"
   ]
  },
  {
   "cell_type": "code",
   "execution_count": 30,
   "metadata": {
    "collapsed": true
   },
   "outputs": [],
   "source": [
    "# Close the session\n",
    "sess.close()"
   ]
  },
  {
   "cell_type": "code",
   "execution_count": null,
   "metadata": {},
   "outputs": [],
   "source": [
    "#@tf.function --- this decorator is supported in TF v2.0+ which is JIT compilation marking\n",
    "def multilayer_perceptron(x, w0, b0, w1, b1,):\n",
    "    x = dense(x, w0, b0)\n",
    "    x = dense(x, w1, b1)"
   ]
  }
 ],
 "metadata": {
  "kernelspec": {
   "display_name": "Python 3",
   "language": "python",
   "name": "python3"
  },
  "language_info": {
   "codemirror_mode": {
    "name": "ipython",
    "version": 3
   },
   "file_extension": ".py",
   "mimetype": "text/x-python",
   "name": "python",
   "nbconvert_exporter": "python",
   "pygments_lexer": "ipython3",
   "version": "3.6.3"
  }
 },
 "nbformat": 4,
 "nbformat_minor": 2
}
