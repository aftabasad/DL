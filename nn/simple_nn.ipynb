{
 "cells": [
  {
   "cell_type": "code",
   "execution_count": 218,
   "metadata": {
    "collapsed": true
   },
   "outputs": [],
   "source": [
    "import numpy as np"
   ]
  },
  {
   "cell_type": "code",
   "execution_count": 219,
   "metadata": {
    "collapsed": true
   },
   "outputs": [],
   "source": [
    "def sigmoid(x, derivative=False):\n",
    "    z = 1/(1+np.exp(-x))\n",
    "    if not derivative:\n",
    "        return z\n",
    "    return z * (1 - z)"
   ]
  },
  {
   "cell_type": "code",
   "execution_count": 227,
   "metadata": {
    "collapsed": true
   },
   "outputs": [],
   "source": [
    "def tanh(x, derivative=False):\n",
    "    z = (np.exp(x)-np.exp(-x))/(np.exp(x)+np.exp(-x))\n",
    "    if not derivative:\n",
    "        return z\n",
    "    return 1-z**2"
   ]
  },
  {
   "cell_type": "code",
   "execution_count": 228,
   "metadata": {},
   "outputs": [],
   "source": [
    "# dataset with 3 features and 4 examples/samples\n",
    "X = np.array([ [0,-2,3],[0,-1,1],[1,0,-5],[1,3,1] ])\n",
    "\n",
    "# output, binary classification\n",
    "y = np.array([[0,1,1,0]]).T"
   ]
  },
  {
   "cell_type": "code",
   "execution_count": 229,
   "metadata": {
    "collapsed": true
   },
   "outputs": [],
   "source": [
    "# learning rate and no. of hidden layer nodes\n",
    "alpha,hidden_dim = (0.5,4)"
   ]
  },
  {
   "cell_type": "code",
   "execution_count": 230,
   "metadata": {},
   "outputs": [],
   "source": [
    "weight_0 = 0.02*np.random.random((3,hidden_dim))\n",
    "weight_1 = 0.02*np.random.random((hidden_dim,1))"
   ]
  },
  {
   "cell_type": "code",
   "execution_count": 232,
   "metadata": {},
   "outputs": [
    {
     "name": "stdout",
     "output_type": "stream",
     "text": [
      "Output After Training:\n",
      "[[0.06009042]\n",
      " [0.93846254]\n",
      " [0.99995559]\n",
      " [0.01497424]]\n"
     ]
    }
   ],
   "source": [
    "#iterate the process\n",
    "for j in range(1000):\n",
    "    ##### Forward propagation\n",
    "    # sumation and activation\n",
    "    a1 = np.dot(X,weight_0) # no bias\n",
    "    layer_1 = sigmoid(a1)\n",
    "    a2 = np.dot(layer_1,weight_1) # no bias\n",
    "    layer_2 = sigmoid(a2)\n",
    "    ##### Backward propagation \n",
    "    # calc. gradient (derivative) and find diff (delta)\n",
    "    layer_2_delta = (layer_2 - y) * sigmoid(a2, True) #(layer_2*(1-layer_2))\n",
    "    layer_1_delta = layer_2_delta.dot(weight_1.T) * sigmoid(a1, True) #(layer_1 * (1-layer_1))\n",
    "    # adjust (substract) weights\n",
    "    weight_1 -= (alpha * layer_1.T.dot(layer_2_delta))\n",
    "    weight_0 -= (alpha * X.T.dot(layer_1_delta))\n",
    "print (\"Output After Training:\")\n",
    "print (layer_2)"
   ]
  },
  {
   "cell_type": "code",
   "execution_count": null,
   "metadata": {
    "collapsed": true
   },
   "outputs": [],
   "source": []
  }
 ],
 "metadata": {
  "kernelspec": {
   "display_name": "Python 3",
   "language": "python",
   "name": "python3"
  },
  "language_info": {
   "codemirror_mode": {
    "name": "ipython",
    "version": 3
   },
   "file_extension": ".py",
   "mimetype": "text/x-python",
   "name": "python",
   "nbconvert_exporter": "python",
   "pygments_lexer": "ipython3",
   "version": "3.6.3"
  }
 },
 "nbformat": 4,
 "nbformat_minor": 2
}
