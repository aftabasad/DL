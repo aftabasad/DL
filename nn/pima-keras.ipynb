{
 "cells": [
  {
   "cell_type": "code",
   "execution_count": 1,
   "metadata": {},
   "outputs": [
    {
     "name": "stderr",
     "output_type": "stream",
     "text": [
      "C:\\Users\\adnkhan\\AppData\\Local\\Continuum\\anaconda3\\lib\\site-packages\\h5py\\__init__.py:36: FutureWarning: Conversion of the second argument of issubdtype from `float` to `np.floating` is deprecated. In future, it will be treated as `np.float64 == np.dtype(float).type`.\n",
      "  from ._conv import register_converters as _register_converters\n",
      "Using TensorFlow backend.\n"
     ]
    }
   ],
   "source": [
    "# first neural network with keras tutorial\n",
    "from numpy import loadtxt\n",
    "from keras.models import Sequential\n",
    "from keras.layers import Dense"
   ]
  },
  {
   "cell_type": "code",
   "execution_count": 2,
   "metadata": {
    "collapsed": true
   },
   "outputs": [],
   "source": [
    "# load the dataset\n",
    "dataset = loadtxt('../data/Pima-indians-diabetes.csv', delimiter=',')\n",
    "# split into input (X) and output (y) variables\n",
    "X = dataset[:,0:8]\n",
    "y = dataset[:,8]"
   ]
  },
  {
   "cell_type": "code",
   "execution_count": 10,
   "metadata": {
    "collapsed": true
   },
   "outputs": [],
   "source": [
    "# define the keras model\n",
    "model = Sequential()\n",
    "model.add(Dense(24, input_dim=8, activation='relu'))\n",
    "model.add(Dense(8, activation='relu'))\n",
    "model.add(Dense(1, activation='sigmoid'))"
   ]
  },
  {
   "cell_type": "code",
   "execution_count": 11,
   "metadata": {
    "collapsed": true
   },
   "outputs": [],
   "source": [
    "# compile the keras model\n",
    "model.compile(loss='binary_crossentropy', optimizer='adam', metrics=['accuracy'])"
   ]
  },
  {
   "cell_type": "code",
   "execution_count": 12,
   "metadata": {},
   "outputs": [
    {
     "name": "stdout",
     "output_type": "stream",
     "text": [
      "Epoch 1/50\n",
      "768/768 [==============================] - 0s 490us/step - loss: 1.9616 - acc: 0.5026\n",
      "Epoch 2/50\n",
      "768/768 [==============================] - 0s 120us/step - loss: 0.7036 - acc: 0.6745\n",
      "Epoch 3/50\n",
      "768/768 [==============================] - 0s 117us/step - loss: 0.6434 - acc: 0.6771\n",
      "Epoch 4/50\n",
      "768/768 [==============================] - 0s 124us/step - loss: 0.6285 - acc: 0.6680\n",
      "Epoch 5/50\n",
      "768/768 [==============================] - 0s 125us/step - loss: 0.6184 - acc: 0.6680\n",
      "Epoch 6/50\n",
      "768/768 [==============================] - 0s 130us/step - loss: 0.6140 - acc: 0.6667\n",
      "Epoch 7/50\n",
      "768/768 [==============================] - 0s 124us/step - loss: 0.6088 - acc: 0.6745\n",
      "Epoch 8/50\n",
      "768/768 [==============================] - 0s 120us/step - loss: 0.6023 - acc: 0.6797\n",
      "Epoch 9/50\n",
      "768/768 [==============================] - 0s 121us/step - loss: 0.5980 - acc: 0.6797\n",
      "Epoch 10/50\n",
      "768/768 [==============================] - 0s 122us/step - loss: 0.5942 - acc: 0.6823\n",
      "Epoch 11/50\n",
      "768/768 [==============================] - 0s 117us/step - loss: 0.5954 - acc: 0.6797\n",
      "Epoch 12/50\n",
      "768/768 [==============================] - 0s 124us/step - loss: 0.5920 - acc: 0.6823\n",
      "Epoch 13/50\n",
      "768/768 [==============================] - 0s 133us/step - loss: 0.5900 - acc: 0.6784\n",
      "Epoch 14/50\n",
      "768/768 [==============================] - 0s 126us/step - loss: 0.5849 - acc: 0.6810\n",
      "Epoch 15/50\n",
      "768/768 [==============================] - 0s 120us/step - loss: 0.5838 - acc: 0.6849\n",
      "Epoch 16/50\n",
      "768/768 [==============================] - 0s 141us/step - loss: 0.5822 - acc: 0.6849\n",
      "Epoch 17/50\n",
      "768/768 [==============================] - 0s 122us/step - loss: 0.5787 - acc: 0.6888\n",
      "Epoch 18/50\n",
      "768/768 [==============================] - 0s 130us/step - loss: 0.5750 - acc: 0.6966\n",
      "Epoch 19/50\n",
      "768/768 [==============================] - 0s 130us/step - loss: 0.5748 - acc: 0.6888\n",
      "Epoch 20/50\n",
      "768/768 [==============================] - 0s 133us/step - loss: 0.5823 - acc: 0.6888\n",
      "Epoch 21/50\n",
      "768/768 [==============================] - 0s 132us/step - loss: 0.5758 - acc: 0.6888\n",
      "Epoch 22/50\n",
      "768/768 [==============================] - 0s 128us/step - loss: 0.5762 - acc: 0.6914\n",
      "Epoch 23/50\n",
      "768/768 [==============================] - 0s 128us/step - loss: 0.5907 - acc: 0.6875\n",
      "Epoch 24/50\n",
      "768/768 [==============================] - 0s 119us/step - loss: 0.5792 - acc: 0.6875\n",
      "Epoch 25/50\n",
      "768/768 [==============================] - 0s 126us/step - loss: 0.5671 - acc: 0.6862\n",
      "Epoch 26/50\n",
      "768/768 [==============================] - 0s 126us/step - loss: 0.5686 - acc: 0.6849\n",
      "Epoch 27/50\n",
      "768/768 [==============================] - 0s 146us/step - loss: 0.5743 - acc: 0.6823\n",
      "Epoch 28/50\n",
      "768/768 [==============================] - 0s 130us/step - loss: 0.5628 - acc: 0.6992\n",
      "Epoch 29/50\n",
      "768/768 [==============================] - 0s 122us/step - loss: 0.5749 - acc: 0.6966\n",
      "Epoch 30/50\n",
      "768/768 [==============================] - 0s 120us/step - loss: 0.5650 - acc: 0.6953\n",
      "Epoch 31/50\n",
      "768/768 [==============================] - 0s 125us/step - loss: 0.5644 - acc: 0.6927\n",
      "Epoch 32/50\n",
      "768/768 [==============================] - 0s 132us/step - loss: 0.5629 - acc: 0.6966\n",
      "Epoch 33/50\n",
      "768/768 [==============================] - 0s 129us/step - loss: 0.5651 - acc: 0.6940\n",
      "Epoch 34/50\n",
      "768/768 [==============================] - 0s 126us/step - loss: 0.5636 - acc: 0.6888\n",
      "Epoch 35/50\n",
      "768/768 [==============================] - 0s 122us/step - loss: 0.5622 - acc: 0.6966\n",
      "Epoch 36/50\n",
      "768/768 [==============================] - 0s 120us/step - loss: 0.5578 - acc: 0.6953\n",
      "Epoch 37/50\n",
      "768/768 [==============================] - 0s 132us/step - loss: 0.5591 - acc: 0.6953\n",
      "Epoch 38/50\n",
      "768/768 [==============================] - 0s 154us/step - loss: 0.5664 - acc: 0.7018\n",
      "Epoch 39/50\n",
      "768/768 [==============================] - 0s 146us/step - loss: 0.5557 - acc: 0.6940\n",
      "Epoch 40/50\n",
      "768/768 [==============================] - 0s 132us/step - loss: 0.5820 - acc: 0.6966\n",
      "Epoch 41/50\n",
      "768/768 [==============================] - 0s 121us/step - loss: 0.5614 - acc: 0.6979\n",
      "Epoch 42/50\n",
      "768/768 [==============================] - 0s 142us/step - loss: 0.5583 - acc: 0.6888\n",
      "Epoch 43/50\n",
      "768/768 [==============================] - 0s 146us/step - loss: 0.5559 - acc: 0.7005\n",
      "Epoch 44/50\n",
      "768/768 [==============================] - 0s 145us/step - loss: 0.5537 - acc: 0.6901\n",
      "Epoch 45/50\n",
      "768/768 [==============================] - 0s 146us/step - loss: 0.5718 - acc: 0.6966\n",
      "Epoch 46/50\n",
      "768/768 [==============================] - 0s 159us/step - loss: 0.5501 - acc: 0.6914\n",
      "Epoch 47/50\n",
      "768/768 [==============================] - 0s 165us/step - loss: 0.5561 - acc: 0.7005\n",
      "Epoch 48/50\n",
      "768/768 [==============================] - 0s 182us/step - loss: 0.5511 - acc: 0.6940\n",
      "Epoch 49/50\n",
      "768/768 [==============================] - 0s 173us/step - loss: 0.5520 - acc: 0.7044\n",
      "Epoch 50/50\n",
      "768/768 [==============================] - 0s 171us/step - loss: 0.5544 - acc: 0.6992\n"
     ]
    },
    {
     "data": {
      "text/plain": [
       "<keras.callbacks.History at 0x1e1f752a9b0>"
      ]
     },
     "execution_count": 12,
     "metadata": {},
     "output_type": "execute_result"
    }
   ],
   "source": [
    "# fit the keras model on the dataset\n",
    "model.fit(X, y, epochs=50, batch_size=10)"
   ]
  },
  {
   "cell_type": "code",
   "execution_count": 7,
   "metadata": {},
   "outputs": [
    {
     "name": "stdout",
     "output_type": "stream",
     "text": [
      "768/768 [==============================] - 0s 300us/step\n",
      "Accuracy: 74.61\n"
     ]
    }
   ],
   "source": [
    "# evaluate the keras model\n",
    "_, accuracy = model.evaluate(X, y)\n",
    "print('Accuracy: %.2f' % (accuracy*100))"
   ]
  },
  {
   "cell_type": "code",
   "execution_count": 9,
   "metadata": {
    "scrolled": true
   },
   "outputs": [
    {
     "name": "stdout",
     "output_type": "stream",
     "text": [
      "_________________________________________________________________\n",
      "Layer (type)                 Output Shape              Param #   \n",
      "=================================================================\n",
      "dense_1 (Dense)              (None, 12)                108       \n",
      "_________________________________________________________________\n",
      "dense_2 (Dense)              (None, 8)                 104       \n",
      "_________________________________________________________________\n",
      "dense_3 (Dense)              (None, 1)                 9         \n",
      "=================================================================\n",
      "Total params: 221\n",
      "Trainable params: 221\n",
      "Non-trainable params: 0\n",
      "_________________________________________________________________\n"
     ]
    }
   ],
   "source": [
    "# print model summary\n",
    "model.summary()"
   ]
  },
  {
   "cell_type": "code",
   "execution_count": null,
   "metadata": {
    "collapsed": true
   },
   "outputs": [],
   "source": []
  }
 ],
 "metadata": {
  "kernelspec": {
   "display_name": "Python 3",
   "language": "python",
   "name": "python3"
  },
  "language_info": {
   "codemirror_mode": {
    "name": "ipython",
    "version": 3
   },
   "file_extension": ".py",
   "mimetype": "text/x-python",
   "name": "python",
   "nbconvert_exporter": "python",
   "pygments_lexer": "ipython3",
   "version": "3.6.3"
  }
 },
 "nbformat": 4,
 "nbformat_minor": 2
}
